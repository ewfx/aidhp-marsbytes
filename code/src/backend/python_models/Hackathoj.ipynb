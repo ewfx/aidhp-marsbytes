{
 "cells": [
  {
   "cell_type": "code",
   "execution_count": 44,
   "id": "6680cb53",
   "metadata": {},
   "outputs": [
    {
     "name": "stderr",
     "output_type": "stream",
     "text": [
      "C:\\Users\\Mi\\AppData\\Roaming\\Python\\Python311\\site-packages\\lightfm\\_lightfm_fast.py:9: UserWarning: LightFM was compiled without OpenMP support. Only a single thread will be used.\n",
      "  warnings.warn(\n"
     ]
    }
   ],
   "source": [
    "import pandas as pd\n",
    "import pickle\n",
    "from scipy import sparse\n",
    "from lightfm import LightFM\n",
    "from sklearn.metrics.pairwise import cosine_similarity"
   ]
  },
  {
   "cell_type": "code",
   "execution_count": 3,
   "id": "73e0dda1",
   "metadata": {},
   "outputs": [],
   "source": [
    "def create_interaction_matrix(df, user_col, item_col, rating_col):\n",
    "    interactions = df.groupby([user_col, item_col])[rating_col].sum().unstack().reset_index().fillna(0).set_index(user_col)\n",
    "    return interactions"
   ]
  },
  {
   "cell_type": "code",
   "execution_count": 4,
   "id": "8ca56d13",
   "metadata": {},
   "outputs": [],
   "source": [
    "def create_user_dict(interactions):\n",
    "    user_id = list(interactions.index)\n",
    "    user_dict = {}\n",
    "    counter = 0\n",
    "    for i in user_id:\n",
    "        user_dict[i] = counter\n",
    "        counter += 1\n",
    "    return user_dict"
   ]
  },
  {
   "cell_type": "code",
   "execution_count": 5,
   "id": "b57cd504",
   "metadata": {},
   "outputs": [],
   "source": [
    "def create_item_dict(df, id_col, name_col):\n",
    "    item_dict = {}\n",
    "    for i in range(df.shape[0]):\n",
    "        item_dict[(df.loc[i, id_col])] = df.loc[i, name_col]\n",
    "    return item_dict"
   ]
  },
  {
   "cell_type": "code",
   "execution_count": 6,
   "id": "035a7b0d",
   "metadata": {},
   "outputs": [],
   "source": [
    "def runMF(interactions, n_components=30, loss='warp', k=15, epoch=30, n_jobs=4):\n",
    "    x = interactions.values\n",
    "    x = sparse.csr_matrix(interactions.values)\n",
    "    model = LightFM(no_components=n_components, loss=loss, k=k)\n",
    "    model.fit(x, epochs=epoch, num_threads=n_jobs)\n",
    "    return model"
   ]
  },
  {
   "cell_type": "code",
   "execution_count": 7,
   "id": "9267acbc",
   "metadata": {},
   "outputs": [],
   "source": [
    "def recommend_banking_product_to_user(model, interactions_trained, interactions_current, user_id, user_dict,\n",
    "                               banking_product_dict, threshold=0, nrec_items=10):\n",
    "    n_users, n_items = interactions_trained.shape\n",
    "    user_x = user_dict[user_id]\n",
    "    scores = pd.Series(model.predict(user_x, np.arange(n_items)))\n",
    "    scores.index = interactions_current.columns\n",
    "    scores = list(pd.Series(scores.sort_values(ascending=False).index))\n",
    "\n",
    "    known_products = list(pd.Series(interactions_current.loc[user_id, :][interactions_current.loc[user_id, :] > threshold].index).sort_values(ascending=False))\n",
    "\n",
    "    scores = [x for x in scores if int(x) not in known_products]\n",
    "    return_score_list = scores[0:nrec_items]\n",
    "    known_products = list(pd.Series(known_products).apply(lambda x: banking_product_dict[int(x)]))\n",
    "    products_recommended = list(pd.Series(return_score_list).apply(lambda x: banking_product_dict[int(x)]))\n",
    "    return return_score_list, products_recommended, known_products\n"
   ]
  },
  {
   "cell_type": "code",
   "execution_count": 8,
   "id": "f9d9f8a9",
   "metadata": {},
   "outputs": [],
   "source": [
    "def create_banking_product_emdedding_distance_matrix(model, interactions):\n",
    "    df_item_norm_sparse = sparse.csr_matrix(model.item_embeddings)\n",
    "    similarities = cosine_similarity(df_item_norm_sparse)\n",
    "    item_emdedding_distance_matrix = pd.DataFrame(similarities)\n",
    "    item_emdedding_distance_matrix.columns = interactions.columns\n",
    "    item_emdedding_distance_matrix.index = interactions.columns\n",
    "    return item_emdedding_distance_matrix\n"
   ]
  },
  {
   "cell_type": "code",
   "execution_count": 9,
   "id": "f714680a",
   "metadata": {},
   "outputs": [],
   "source": [
    "def recommend_banking_product_to_product(item_emdedding_distance_matrix, item_id,\n",
    "                                banking_product_dict, n_items=10):\n",
    "    recommended_product_id = list(pd.Series(item_emdedding_distance_matrix.loc[str(item_id), :].sort_values(ascending=False).head(n_items + 1).index[1:n_items + 1]))\n",
    "    final_products = []\n",
    "    for i in recommended_product_id:\n",
    "        final_products.append(banking_product_dict[int(i)])\n",
    "    return recommended_product_id, final_products"
   ]
  },
  {
   "cell_type": "code",
   "execution_count": 10,
   "id": "a408a7ed",
   "metadata": {},
   "outputs": [],
   "source": [
    "# Load data (replace with your file paths)\n",
    "df_cc_trans = pd.read_csv('transaction_data.csv')\n",
    "df_banking_products = pd.read_csv('banking_products.csv')"
   ]
  },
  {
   "cell_type": "code",
   "execution_count": 11,
   "id": "25099441",
   "metadata": {},
   "outputs": [],
   "source": [
    "df_cc_trans = df_cc_trans.head(3)"
   ]
  },
  {
   "cell_type": "code",
   "execution_count": 12,
   "id": "5f3a379b",
   "metadata": {},
   "outputs": [],
   "source": [
    "df_banking_products = df_banking_products.head(3)"
   ]
  },
  {
   "cell_type": "code",
   "execution_count": 13,
   "id": "cd62c47b",
   "metadata": {},
   "outputs": [],
   "source": [
    "# Merge data\n",
    "df_3 = pd.merge(df_cc_trans, df_banking_products, on='merchant_category')"
   ]
  },
  {
   "cell_type": "code",
   "execution_count": 14,
   "id": "26bd4f25",
   "metadata": {},
   "outputs": [
    {
     "data": {
      "text/html": [
       "<div>\n",
       "<style scoped>\n",
       "    .dataframe tbody tr th:only-of-type {\n",
       "        vertical-align: middle;\n",
       "    }\n",
       "\n",
       "    .dataframe tbody tr th {\n",
       "        vertical-align: top;\n",
       "    }\n",
       "\n",
       "    .dataframe thead th {\n",
       "        text-align: right;\n",
       "    }\n",
       "</style>\n",
       "<table border=\"1\" class=\"dataframe\">\n",
       "  <thead>\n",
       "    <tr style=\"text-align: right;\">\n",
       "      <th></th>\n",
       "      <th>custID</th>\n",
       "      <th>merchant</th>\n",
       "      <th>merchant_category</th>\n",
       "      <th>ratings</th>\n",
       "      <th>banking_product_id</th>\n",
       "      <th>banking_product_name</th>\n",
       "    </tr>\n",
       "  </thead>\n",
       "  <tbody>\n",
       "    <tr>\n",
       "      <th>0</th>\n",
       "      <td>10084</td>\n",
       "      <td>Hughes PLC</td>\n",
       "      <td>Travel</td>\n",
       "      <td>2.844368</td>\n",
       "      <td>1</td>\n",
       "      <td>Credit Card Person</td>\n",
       "    </tr>\n",
       "    <tr>\n",
       "      <th>1</th>\n",
       "      <td>10084</td>\n",
       "      <td>Hughes PLC</td>\n",
       "      <td>Travel</td>\n",
       "      <td>2.844368</td>\n",
       "      <td>3</td>\n",
       "      <td>Investment Nation</td>\n",
       "    </tr>\n",
       "  </tbody>\n",
       "</table>\n",
       "</div>"
      ],
      "text/plain": [
       "   custID    merchant merchant_category   ratings  banking_product_id  \\\n",
       "0   10084  Hughes PLC            Travel  2.844368                   1   \n",
       "1   10084  Hughes PLC            Travel  2.844368                   3   \n",
       "\n",
       "  banking_product_name  \n",
       "0   Credit Card Person  \n",
       "1    Investment Nation  "
      ]
     },
     "execution_count": 14,
     "metadata": {},
     "output_type": "execute_result"
    }
   ],
   "source": [
    "df_3"
   ]
  },
  {
   "cell_type": "code",
   "execution_count": 15,
   "id": "80f2dd54",
   "metadata": {},
   "outputs": [],
   "source": [
    "# Create interaction matrix\n",
    "interactions_banking_products = create_interaction_matrix(df=df_3,\n",
    "                                         user_col='custID',\n",
    "                                         item_col='banking_product_id',\n",
    "                                         rating_col='ratings')"
   ]
  },
  {
   "cell_type": "code",
   "execution_count": 16,
   "id": "f8d27830",
   "metadata": {},
   "outputs": [
    {
     "data": {
      "text/html": [
       "<div>\n",
       "<style scoped>\n",
       "    .dataframe tbody tr th:only-of-type {\n",
       "        vertical-align: middle;\n",
       "    }\n",
       "\n",
       "    .dataframe tbody tr th {\n",
       "        vertical-align: top;\n",
       "    }\n",
       "\n",
       "    .dataframe thead th {\n",
       "        text-align: right;\n",
       "    }\n",
       "</style>\n",
       "<table border=\"1\" class=\"dataframe\">\n",
       "  <thead>\n",
       "    <tr style=\"text-align: right;\">\n",
       "      <th>banking_product_id</th>\n",
       "      <th>1</th>\n",
       "      <th>3</th>\n",
       "    </tr>\n",
       "    <tr>\n",
       "      <th>custID</th>\n",
       "      <th></th>\n",
       "      <th></th>\n",
       "    </tr>\n",
       "  </thead>\n",
       "  <tbody>\n",
       "    <tr>\n",
       "      <th>10084</th>\n",
       "      <td>2.844368</td>\n",
       "      <td>2.844368</td>\n",
       "    </tr>\n",
       "  </tbody>\n",
       "</table>\n",
       "</div>"
      ],
      "text/plain": [
       "banking_product_id         1         3\n",
       "custID                                \n",
       "10084               2.844368  2.844368"
      ]
     },
     "execution_count": 16,
     "metadata": {},
     "output_type": "execute_result"
    }
   ],
   "source": [
    "interactions_banking_products"
   ]
  },
  {
   "cell_type": "code",
   "execution_count": 17,
   "id": "99608906",
   "metadata": {},
   "outputs": [],
   "source": [
    "# Create dictionaries\n",
    "user_dict = create_user_dict(interactions=interactions_banking_products)\n",
    "banking_product_dict = create_item_dict(df=df_banking_products,\n",
    "                               id_col='banking_product_id',\n",
    "                               name_col='banking_product_name')"
   ]
  },
  {
   "cell_type": "code",
   "execution_count": 18,
   "id": "6a5fcc26",
   "metadata": {},
   "outputs": [
    {
     "data": {
      "text/plain": [
       "{10084: 0}"
      ]
     },
     "execution_count": 18,
     "metadata": {},
     "output_type": "execute_result"
    }
   ],
   "source": [
    "user_dict"
   ]
  },
  {
   "cell_type": "code",
   "execution_count": 19,
   "id": "f13cddb8",
   "metadata": {},
   "outputs": [
    {
     "data": {
      "text/plain": [
       "{1: 'Credit Card Person', 2: 'Investment Whether', 3: 'Investment Nation'}"
      ]
     },
     "execution_count": 19,
     "metadata": {},
     "output_type": "execute_result"
    }
   ],
   "source": [
    "banking_product_dict"
   ]
  },
  {
   "cell_type": "code",
   "execution_count": 1,
   "id": "2f76d4d9",
   "metadata": {},
   "outputs": [
    {
     "ename": "NameError",
     "evalue": "name 'runMF' is not defined",
     "output_type": "error",
     "traceback": [
      "\u001b[1;31m---------------------------------------------------------------------------\u001b[0m",
      "\u001b[1;31mNameError\u001b[0m                                 Traceback (most recent call last)",
      "Cell \u001b[1;32mIn[1], line 2\u001b[0m\n\u001b[0;32m      1\u001b[0m \u001b[38;5;66;03m# Train model\u001b[39;00m\n\u001b[1;32m----> 2\u001b[0m mf_model_banking_products \u001b[38;5;241m=\u001b[39m runMF(interactions\u001b[38;5;241m=\u001b[39minteractions_banking_products,\n\u001b[0;32m      3\u001b[0m                  n_components\u001b[38;5;241m=\u001b[39m\u001b[38;5;241m2\u001b[39m,\n\u001b[0;32m      4\u001b[0m                  loss\u001b[38;5;241m=\u001b[39m\u001b[38;5;124m'\u001b[39m\u001b[38;5;124mwarp\u001b[39m\u001b[38;5;124m'\u001b[39m,\n\u001b[0;32m      5\u001b[0m                  k\u001b[38;5;241m=\u001b[39m\u001b[38;5;241m1\u001b[39m,\n\u001b[0;32m      6\u001b[0m                  epoch\u001b[38;5;241m=\u001b[39m\u001b[38;5;241m1\u001b[39m,\n\u001b[0;32m      7\u001b[0m                  n_jobs\u001b[38;5;241m=\u001b[39m\u001b[38;5;241m1\u001b[39m)\n",
      "\u001b[1;31mNameError\u001b[0m: name 'runMF' is not defined"
     ]
    }
   ],
   "source": [
    "# Train model\n",
    "mf_model_banking_products = runMF(interactions=interactions_banking_products,\n",
    "                 n_components=2,\n",
    "                 loss='warp',\n",
    "                 k=1,\n",
    "                 epoch=1,\n",
    "                 n_jobs=1)\n"
   ]
  },
  {
   "cell_type": "code",
   "execution_count": 21,
   "id": "b679233a",
   "metadata": {},
   "outputs": [
    {
     "ename": "KeyError",
     "evalue": "10000",
     "output_type": "error",
     "traceback": [
      "\u001b[1;31m---------------------------------------------------------------------------\u001b[0m",
      "\u001b[1;31mKeyError\u001b[0m                                  Traceback (most recent call last)",
      "Cell \u001b[1;32mIn[21], line 3\u001b[0m\n\u001b[0;32m      1\u001b[0m \u001b[38;5;66;03m# Generate user recommendations (example for user 10000)\u001b[39;00m\n\u001b[0;32m      2\u001b[0m return_score_list, products_recommended, known_products \u001b[38;5;241m=\u001b[39m \\\n\u001b[1;32m----> 3\u001b[0m     recommend_banking_product_to_user(model\u001b[38;5;241m=\u001b[39mmf_model_banking_products,\n\u001b[0;32m      4\u001b[0m                                interactions_trained\u001b[38;5;241m=\u001b[39minteractions_banking_products,\n\u001b[0;32m      5\u001b[0m                                interactions_current\u001b[38;5;241m=\u001b[39minteractions_banking_products,\n\u001b[0;32m      6\u001b[0m                                user_id\u001b[38;5;241m=\u001b[39m\u001b[38;5;241m10000\u001b[39m,\n\u001b[0;32m      7\u001b[0m                                user_dict\u001b[38;5;241m=\u001b[39muser_dict,\n\u001b[0;32m      8\u001b[0m                                banking_product_dict\u001b[38;5;241m=\u001b[39mbanking_product_dict,\n\u001b[0;32m      9\u001b[0m                                threshold\u001b[38;5;241m=\u001b[39m\u001b[38;5;241m1\u001b[39m,\n\u001b[0;32m     10\u001b[0m                                nrec_items\u001b[38;5;241m=\u001b[39m\u001b[38;5;241m5\u001b[39m)\n",
      "Cell \u001b[1;32mIn[6], line 4\u001b[0m, in \u001b[0;36mrecommend_banking_product_to_user\u001b[1;34m(model, interactions_trained, interactions_current, user_id, user_dict, banking_product_dict, threshold, nrec_items)\u001b[0m\n\u001b[0;32m      1\u001b[0m \u001b[38;5;28;01mdef\u001b[39;00m \u001b[38;5;21mrecommend_banking_product_to_user\u001b[39m(model, interactions_trained, interactions_current, user_id, user_dict,\n\u001b[0;32m      2\u001b[0m                                banking_product_dict, threshold\u001b[38;5;241m=\u001b[39m\u001b[38;5;241m0\u001b[39m, nrec_items\u001b[38;5;241m=\u001b[39m\u001b[38;5;241m10\u001b[39m):\n\u001b[0;32m      3\u001b[0m     n_users, n_items \u001b[38;5;241m=\u001b[39m interactions_trained\u001b[38;5;241m.\u001b[39mshape\n\u001b[1;32m----> 4\u001b[0m     user_x \u001b[38;5;241m=\u001b[39m user_dict[user_id]\n\u001b[0;32m      5\u001b[0m     scores \u001b[38;5;241m=\u001b[39m pd\u001b[38;5;241m.\u001b[39mSeries(model\u001b[38;5;241m.\u001b[39mpredict(user_x, np\u001b[38;5;241m.\u001b[39marange(n_items)))\n\u001b[0;32m      6\u001b[0m     scores\u001b[38;5;241m.\u001b[39mindex \u001b[38;5;241m=\u001b[39m interactions_current\u001b[38;5;241m.\u001b[39mcolumns\n",
      "\u001b[1;31mKeyError\u001b[0m: 10000"
     ]
    }
   ],
   "source": [
    "# Generate user recommendations (example for user 10000)\n",
    "return_score_list, products_recommended, known_products = \\\n",
    "    recommend_banking_product_to_user(model=mf_model_banking_products,\n",
    "                               interactions_trained=interactions_banking_products,\n",
    "                               interactions_current=interactions_banking_products,\n",
    "                               user_id=10000,\n",
    "                               user_dict=user_dict,\n",
    "                               banking_product_dict=banking_product_dict,\n",
    "                               threshold=1,\n",
    "                               nrec_items=5)"
   ]
  },
  {
   "cell_type": "code",
   "execution_count": null,
   "id": "94c31a52",
   "metadata": {},
   "outputs": [],
   "source": [
    "print(\"Recommended Banking Products for User 10000:\", products_recommended)\n",
    "print(\"Known Banking Products for User 10000:\", known_products)"
   ]
  },
  {
   "cell_type": "code",
   "execution_count": null,
   "id": "5bdf0bc2",
   "metadata": {},
   "outputs": [],
   "source": [
    "# Generate banking product-banking product recommendations (example for product ID 1)\n",
    "banking_product_dist = create_banking_product_emdedding_distance_matrix(model=mf_model_banking_products,\n",
    "                                                       interactions=interactions_banking_products)"
   ]
  },
  {
   "cell_type": "code",
   "execution_count": null,
   "id": "49e26177",
   "metadata": {},
   "outputs": [],
   "source": [
    "recommended_product_id, final_products = \\\n",
    "    recommend_banking_product_to_product(item_emdedding_distance_matrix=banking_product_dist,\n",
    "                                    item_id=1,\n",
    "                                    banking_product_dict=banking_product_dict,\n",
    "                                    n_items=3)"
   ]
  },
  {
   "cell_type": "code",
   "execution_count": null,
   "id": "1e02902b",
   "metadata": {},
   "outputs": [],
   "source": [
    "print(\"Recommended Similar Banking Products to Product 1:\", final_products)"
   ]
  },
  {
   "cell_type": "code",
   "execution_count": 10,
   "id": "e3334958",
   "metadata": {},
   "outputs": [
    {
     "name": "stdout",
     "output_type": "stream",
     "text": [
      "                      email  customer_id employee_index country sex  age  \\\n",
      "0  stevensonamy@example.net      2140224              N      US   O   33   \n",
      "1      robert91@example.net      1318233              N      CA   M   50   \n",
      "2   jacksonbrad@example.com      1654961              N      MX   M   28   \n",
      "3       zritter@example.com      2285310              S      MX   O   78   \n",
      "4        zdavis@example.com      5786251              N      CA   M   49   \n",
      "\n",
      "   joindate  customer_index6  customer_life customer_relation  ... BillPay  \\\n",
      "0  12/11/19                6              7                 C  ...       1   \n",
      "1  01/06/19                4             20                 A  ...       0   \n",
      "2  09/10/17               10             12                 A  ...       1   \n",
      "3  07/04/24                2             11                 A  ...       0   \n",
      "4  06/06/20                7              3                 B  ...       1   \n",
      "\n",
      "  PersonalLoan  BrokerageAccount TrustAccount  OverdraftProtection  \\\n",
      "0            0                 1            1                    0   \n",
      "1            1                 0            1                    1   \n",
      "2            1                 0            0                    1   \n",
      "3            1                 0            0                    0   \n",
      "4            0                 1            1                    0   \n",
      "\n",
      "   PrepaidCard MoneyTransfer  DirectDebit  BusinessAccount  SafeDepositBox  \n",
      "0            0             1            1                1               0  \n",
      "1            1             0            0                1               1  \n",
      "2            0             1            0                0               1  \n",
      "3            0             1            0                0               0  \n",
      "4            0             0            1                0               1  \n",
      "\n",
      "[5 rows x 41 columns]\n",
      "email                   object\n",
      "customer_id              int64\n",
      "employee_index          object\n",
      "country                 object\n",
      "sex                     object\n",
      "age                      int64\n",
      "joindate                object\n",
      "customer_index6          int64\n",
      "customer_life            int64\n",
      "customer_relation       object\n",
      "res_index               object\n",
      "for_index               object\n",
      "prov_code              float64\n",
      "prov_name               object\n",
      "activity_index         float64\n",
      "income                 float64\n",
      "segmentation            object\n",
      "CheckingAccount          int64\n",
      "SavingsAccount           int64\n",
      "CreditCard               int64\n",
      "HomeLoan                 int64\n",
      "AutoLoan                 int64\n",
      "InvestmentAccount        int64\n",
      "RetirementAccount        int64\n",
      "MoneyMarketAccount       int64\n",
      "CDAccount                int64\n",
      "DebitCard                int64\n",
      "OnlineBanking            int64\n",
      "Mortgage                 int64\n",
      "DirectDeposit          float64\n",
      "Pension                float64\n",
      "BillPay                  int64\n",
      "PersonalLoan             int64\n",
      "BrokerageAccount         int64\n",
      "TrustAccount             int64\n",
      "OverdraftProtection      int64\n",
      "PrepaidCard              int64\n",
      "MoneyTransfer            int64\n",
      "DirectDebit              int64\n",
      "BusinessAccount          int64\n",
      "SafeDepositBox           int64\n",
      "dtype: object\n"
     ]
    }
   ],
   "source": [
    "import pandas as pd\n",
    "from faker import Faker\n",
    "import random\n",
    "import numpy as np\n",
    "\n",
    "fake = Faker()\n",
    "\n",
    "def generate_wells_fargo_data(num_rows=1000):\n",
    "    \"\"\"Generates a dataset with Wells Fargo specific products.\"\"\"\n",
    "\n",
    "    products = {\n",
    "        \"CheckingAccount\": \"ind_cco_fin_ult1\",\n",
    "        \"SavingsAccount\": \"ind_ahor_fin_ult1\",\n",
    "        \"CreditCard\": \"ind_tjcr_fin_ult1\",\n",
    "        \"HomeLoan\": \"ind_hip_fin_ult1\",\n",
    "        \"AutoLoan\": \"ind_pres_fin_ult1\",\n",
    "        \"InvestmentAccount\": \"ind_valo_fin_ult1\",\n",
    "        \"RetirementAccount\": \"ind_plan_fin_ult1\",\n",
    "        \"MoneyMarketAccount\": \"ind_ctma_fin_ult1\",\n",
    "        \"CDAccount\": \"ind_cder_fin_ult1\",\n",
    "        \"DebitCard\": \"ind_deco_fin_ult1\",\n",
    "        \"OnlineBanking\": \"ind_ecue_fin_ult1\",\n",
    "        \"Mortgage\": \"ind_viv_fin_ult1\",\n",
    "        \"DirectDeposit\": \"ind_nomina_ult1\",\n",
    "        \"Pension\": \"ind_nom_pens_ult1\",\n",
    "        \"BillPay\": \"ind_recibo_ult1\",\n",
    "        \"PersonalLoan\": \"ind_dela_fin_ult1\",\n",
    "        \"BrokerageAccount\": \"ind_fond_fin_ult1\",\n",
    "        \"TrustAccount\":\"ind_ctju_fin_ult1\",\n",
    "        \"OverdraftProtection\":\"ind_ctop_fin_ult1\",\n",
    "        \"PrepaidCard\":\"ind_ctpp_fin_ult1\",\n",
    "        \"MoneyTransfer\":\"ind_deme_fin_ult1\",\n",
    "        \"DirectDebit\":\"ind_reca_fin_ult1\",\n",
    "        \"BusinessAccount\":\"ind_aval_fin_ult1\",\n",
    "        \"SafeDepositBox\": \"ind_sdep_fin_ult1\" #Added Safe Deposit Box\n",
    "    }\n",
    "\n",
    "    data = {\n",
    "        \"email\": [fake.email() for _ in range(num_rows)],\n",
    "        \"customer_id\": [random.randint(1000000, 9999999) for _ in range(num_rows)],\n",
    "        \"employee_index\": [random.choice([\"N\", \"S\"]) for _ in range(num_rows)],\n",
    "        \"country\": [random.choice([\"US\", \"CA\", \"MX\"]) for _ in range(num_rows)],\n",
    "        \"sex\": [random.choice([\"M\", \"F\", \"O\"]) for _ in range(num_rows)],\n",
    "        \"age\": [random.randint(18, 80) for _ in range(num_rows)],\n",
    "        \"joindate\": [fake.date_between(start_date=\"-10y\", end_date=\"today\").strftime(\"%d/%m/%y\") for _ in range(num_rows)],\n",
    "        \"customer_index6\": [random.randint(0, 10) for _ in range(num_rows)],\n",
    "        \"customer_life\": [random.randint(1, 20) for _ in range(num_rows)],\n",
    "        \"customer_relation\": [random.choice([\"A\", \"B\", \"C\"]) for _ in range(num_rows)],\n",
    "        \"res_index\": [random.choice([\"S\", \"N\"]) for _ in range(num_rows)],\n",
    "        \"for_index\": [random.choice([\"S\", \"N\"]) for _ in range(num_rows)],\n",
    "        \"prov_code\": [random.randint(1, 56) for _ in range(num_rows)],\n",
    "        \"prov_name\": [fake.city() for _ in range(num_rows)],\n",
    "        \"activity_index\": [random.uniform(0, 1) for _ in range(num_rows)],\n",
    "        \"income\": [random.uniform(20000, 200000) for _ in range(num_rows)],\n",
    "        \"segmentation\": [random.choice([\"Individual\", \"Business\", \"Premium\"]) for _ in range(num_rows)],\n",
    "    }\n",
    "\n",
    "    for product_name, col_name in products.items():\n",
    "        data[product_name] = [random.choice([0, 1]) for _ in range(num_rows)]\n",
    "\n",
    "    df = pd.DataFrame(data)\n",
    "\n",
    "    # Handle nullable floats for specific columns\n",
    "    df[\"DirectDeposit\"] = df[\"DirectDeposit\"].astype('float64')\n",
    "    df[\"Pension\"] = df[\"Pension\"].astype('float64')\n",
    "\n",
    "    df[\"DirectDeposit\"] = df[\"DirectDeposit\"].apply(lambda x: x if random.random() < 0.8 else np.nan)\n",
    "    df[\"Pension\"] = df[\"Pension\"].apply(lambda x: x if random.random() < 0.6 else np.nan)\n",
    "    df[\"prov_code\"] = df[\"prov_code\"].apply(lambda x: x if random.random() < 0.9 else np.nan)\n",
    "    df[\"activity_index\"] = df[\"activity_index\"].apply(lambda x: x if random.random() < 0.95 else np.nan)\n",
    "\n",
    "    #Rename the columns to the orignal column names.\n",
    "    df = df.rename(columns = {v:k for k,v in products.items()})\n",
    "\n",
    "    return df\n",
    "\n",
    "# Generate and display the dataset\n",
    "wells_fargo_df = generate_wells_fargo_data(2000)\n",
    "print(wells_fargo_df.head())\n",
    "print(wells_fargo_df.dtypes)\n",
    "\n",
    "wells_fargo_df.to_csv(\"dataset.csv\", index=False)"
   ]
  },
  {
   "cell_type": "code",
   "execution_count": null,
   "id": "2f6bfe55",
   "metadata": {},
   "outputs": [],
   "source": []
  }
 ],
 "metadata": {
  "kernelspec": {
   "display_name": "Python 3 (ipykernel)",
   "language": "python",
   "name": "python3"
  },
  "language_info": {
   "codemirror_mode": {
    "name": "ipython",
    "version": 3
   },
   "file_extension": ".py",
   "mimetype": "text/x-python",
   "name": "python",
   "nbconvert_exporter": "python",
   "pygments_lexer": "ipython3",
   "version": "3.11.4"
  }
 },
 "nbformat": 4,
 "nbformat_minor": 5
}
